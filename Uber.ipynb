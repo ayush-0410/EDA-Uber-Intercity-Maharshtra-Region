{
 "cells": [
  {
   "cell_type": "code",
   "execution_count": 104,
   "id": "a4b7a10c-9305-4f52-bfb6-5056ee65e42c",
   "metadata": {},
   "outputs": [],
   "source": [
    "import pandas as pd"
   ]
  },
  {
   "cell_type": "raw",
   "id": "024d6f56-498b-4d4f-92d0-d345dac77cc1",
   "metadata": {},
   "source": [
    "df = pd.read_csv('uber_data_NS - uber_data_NS.csv')\n",
    "print(df.head())"
   ]
  },
  {
   "cell_type": "code",
   "execution_count": 105,
   "id": "a14ecce2-f3f9-4902-af47-e474708de909",
   "metadata": {},
   "outputs": [
    {
     "name": "stdout",
     "output_type": "stream",
     "text": [
      "Current Directory: C:\\Users\\ayush\n",
      "File read successfully!\n"
     ]
    }
   ],
   "source": [
    "import os\n",
    "import pandas as pd\n",
    "\n",
    "# Print the current working directory\n",
    "print(\"Current Directory:\", os.getcwd())\n",
    "\n",
    "# Check if the file exists in the directory\n",
    "file_path = \"uber_data_NS - uber_data_NS.csv\"\n",
    "print(\"File read successfully!\")  # Ensure the string is enclosed in quotes\n"
   ]
  },
  {
   "cell_type": "code",
   "execution_count": 106,
   "id": "c0c39693-bc6f-49fb-98a4-31f349115b0f",
   "metadata": {},
   "outputs": [
    {
     "name": "stdout",
     "output_type": "stream",
     "text": [
      "Current Directory: C:\\Users\\ayush\n",
      "File read successfully!\n",
      "DataFrame shape: (1106, 8)\n"
     ]
    }
   ],
   "source": [
    "import os\n",
    "import pandas as pd\n",
    "\n",
    "# Check current directory\n",
    "print(\"Current Directory:\", os.getcwd())\n",
    "\n",
    "# File path\n",
    "file_path = \"uber_data_NS - uber_data_NS.csv\"\n",
    "\n",
    "# Check if file exists\n",
    "if os.path.exists(file_path):\n",
    "    df = pd.read_csv(file_path)\n",
    "    print(\"File read successfully!\")\n",
    "    print(\"DataFrame shape:\", df.shape)  # This should now work!\n",
    "else:\n",
    "    print(\"Error: File not found! Check the filename and location.\")\n"
   ]
  },
  {
   "cell_type": "code",
   "execution_count": 107,
   "id": "bf4eb0f7-1acd-4f8b-8010-feae56af7bac",
   "metadata": {},
   "outputs": [
    {
     "data": {
      "text/html": [
       "<div>\n",
       "<style scoped>\n",
       "    .dataframe tbody tr th:only-of-type {\n",
       "        vertical-align: middle;\n",
       "    }\n",
       "\n",
       "    .dataframe tbody tr th {\n",
       "        vertical-align: top;\n",
       "    }\n",
       "\n",
       "    .dataframe thead th {\n",
       "        text-align: right;\n",
       "    }\n",
       "</style>\n",
       "<table border=\"1\" class=\"dataframe\">\n",
       "  <thead>\n",
       "    <tr style=\"text-align: right;\">\n",
       "      <th></th>\n",
       "      <th>trip_id</th>\n",
       "      <th>trip_time</th>\n",
       "      <th>timeframe</th>\n",
       "      <th>Unnamed: 3</th>\n",
       "      <th>origin</th>\n",
       "      <th>destination</th>\n",
       "      <th>payment_method</th>\n",
       "      <th>payment_amount</th>\n",
       "    </tr>\n",
       "  </thead>\n",
       "  <tbody>\n",
       "    <tr>\n",
       "      <th>0</th>\n",
       "      <td>1</td>\n",
       "      <td>00:40</td>\n",
       "      <td>0-1</td>\n",
       "      <td>0-1</td>\n",
       "      <td>Kolhapur</td>\n",
       "      <td>Amravati</td>\n",
       "      <td>UPI</td>\n",
       "      <td>571</td>\n",
       "    </tr>\n",
       "    <tr>\n",
       "      <th>1</th>\n",
       "      <td>2</td>\n",
       "      <td>00:36</td>\n",
       "      <td>0-1</td>\n",
       "      <td>0-1</td>\n",
       "      <td>Nagpur</td>\n",
       "      <td>Aurangabad</td>\n",
       "      <td>UPI</td>\n",
       "      <td>434</td>\n",
       "    </tr>\n",
       "    <tr>\n",
       "      <th>2</th>\n",
       "      <td>3</td>\n",
       "      <td>00:19</td>\n",
       "      <td>0-1</td>\n",
       "      <td>0-1</td>\n",
       "      <td>Aurangabad</td>\n",
       "      <td>Amravati</td>\n",
       "      <td>Credit Card</td>\n",
       "      <td>298</td>\n",
       "    </tr>\n",
       "    <tr>\n",
       "      <th>3</th>\n",
       "      <td>4</td>\n",
       "      <td>00:04</td>\n",
       "      <td>0-1</td>\n",
       "      <td>0-1</td>\n",
       "      <td>Navi Mumbai</td>\n",
       "      <td>Amravati</td>\n",
       "      <td>Cash</td>\n",
       "      <td>1731</td>\n",
       "    </tr>\n",
       "    <tr>\n",
       "      <th>4</th>\n",
       "      <td>5</td>\n",
       "      <td>00:13</td>\n",
       "      <td>0-1</td>\n",
       "      <td>0-1</td>\n",
       "      <td>Mumbai</td>\n",
       "      <td>Nagpur</td>\n",
       "      <td>UPI</td>\n",
       "      <td>613</td>\n",
       "    </tr>\n",
       "  </tbody>\n",
       "</table>\n",
       "</div>"
      ],
      "text/plain": [
       "   trip_id trip_time timeframe Unnamed: 3       origin destination  \\\n",
       "0        1     00:40       0-1        0-1     Kolhapur    Amravati   \n",
       "1        2     00:36       0-1        0-1       Nagpur  Aurangabad   \n",
       "2        3     00:19       0-1        0-1   Aurangabad    Amravati   \n",
       "3        4     00:04       0-1        0-1  Navi Mumbai    Amravati   \n",
       "4        5     00:13       0-1        0-1       Mumbai      Nagpur   \n",
       "\n",
       "  payment_method  payment_amount  \n",
       "0            UPI             571  \n",
       "1            UPI             434  \n",
       "2    Credit Card             298  \n",
       "3           Cash            1731  \n",
       "4            UPI             613  "
      ]
     },
     "execution_count": 107,
     "metadata": {},
     "output_type": "execute_result"
    }
   ],
   "source": [
    "df.head()"
   ]
  },
  {
   "cell_type": "code",
   "execution_count": 108,
   "id": "37699344-3841-4193-a625-16d2f816ba40",
   "metadata": {},
   "outputs": [
    {
     "name": "stdout",
     "output_type": "stream",
     "text": [
      "(1106, 8)\n"
     ]
    }
   ],
   "source": [
    "print(df.shape)"
   ]
  },
  {
   "cell_type": "code",
   "execution_count": 109,
   "id": "45347588-0a5d-4d9c-b7bc-1cc97414277c",
   "metadata": {},
   "outputs": [
    {
     "name": "stdout",
     "output_type": "stream",
     "text": [
      "trip_id             0\n",
      "trip_time           0\n",
      "timeframe           0\n",
      "Unnamed: 3        517\n",
      "origin              0\n",
      "destination         0\n",
      "payment_method      0\n",
      "payment_amount      0\n",
      "dtype: int64\n"
     ]
    }
   ],
   "source": [
    "print(df.isnull().sum())"
   ]
  },
  {
   "cell_type": "code",
   "execution_count": 110,
   "id": "f80a94be-a5ef-4d75-ac0f-5cb9c1c7a879",
   "metadata": {},
   "outputs": [
    {
     "name": "stdout",
     "output_type": "stream",
     "text": [
      "      trip_id trip_time timeframe Unnamed: 3      origin destination  \\\n",
      "0           1     00:40       0-1        0-1    Kolhapur    Amravati   \n",
      "1           2     00:36       0-1        0-1      Nagpur  Aurangabad   \n",
      "4           5     00:13       0-1        0-1      Mumbai      Nagpur   \n",
      "7           8     00:26       0-1        0-1  Aurangabad    Kolhapur   \n",
      "10         11     00:42       0-1        0-1    Amravati     Solapur   \n",
      "...       ...       ...       ...        ...         ...         ...   \n",
      "1085     1086     23:57     23-24      23-24      Nagpur      Nashik   \n",
      "1086     1087     23:08     23-24      23-24        Pune    Kolhapur   \n",
      "1091     1092     23:59     23-24      23-24     Solapur        Pune   \n",
      "1097     1098     23:47     23-24      23-24      Nashik     Solapur   \n",
      "1102     1103     23:44     23-24      23-24       Thane    Amravati   \n",
      "\n",
      "     payment_method  payment_amount  \n",
      "0               UPI             571  \n",
      "1               UPI             434  \n",
      "4               UPI             613  \n",
      "7               UPI             826  \n",
      "10              UPI            1410  \n",
      "...             ...             ...  \n",
      "1085            UPI             357  \n",
      "1086            UPI             481  \n",
      "1091            UPI             383  \n",
      "1097            UPI            1487  \n",
      "1102            UPI             420  \n",
      "\n",
      "[219 rows x 8 columns]\n"
     ]
    }
   ],
   "source": [
    "upi_payments = df[df['payment_method'].str.lower() == 'upi']  # Ensure case insensitivity\n",
    "print(upi_payments)\n"
   ]
  },
  {
   "cell_type": "code",
   "execution_count": 111,
   "id": "2379b45c-19a1-4411-975e-9939a6737626",
   "metadata": {},
   "outputs": [
    {
     "name": "stdout",
     "output_type": "stream",
     "text": [
      "['UPI' 'Credit Card' 'Cash' 'Google Pay']\n"
     ]
    }
   ],
   "source": [
    "print(df['payment_method'].unique())  # List all payment modes\n"
   ]
  },
  {
   "cell_type": "code",
   "execution_count": 112,
   "id": "9682e066-b4d6-4e6a-b324-9960d38f8bc6",
   "metadata": {},
   "outputs": [
    {
     "name": "stdout",
     "output_type": "stream",
     "text": [
      "      trip_id trip_time timeframe Unnamed: 3      origin  destination  \\\n",
      "7           8     00:26       0-1        0-1  Aurangabad     Kolhapur   \n",
      "10         11     00:42       0-1        0-1    Amravati      Solapur   \n",
      "13         14     00:01       0-1        0-1        Pune  Navi Mumbai   \n",
      "14         15     00:44       0-1        0-1    Amravati      Solapur   \n",
      "17         18     00:34       0-1        0-1     Solapur       Mumbai   \n",
      "...       ...       ...       ...        ...         ...          ...   \n",
      "1053     1054     22:31     22-23      22-23     Solapur       Mumbai   \n",
      "1054     1055     22:19     22-23      22-23     Solapur   Aurangabad   \n",
      "1077     1078     23:45     23-24      23-24      Nagpur     Amravati   \n",
      "1082     1083     23:59     23-24      23-24        Pune   Aurangabad   \n",
      "1097     1098     23:47     23-24      23-24      Nashik      Solapur   \n",
      "\n",
      "     payment_method  payment_amount  \n",
      "7               UPI             826  \n",
      "10              UPI            1410  \n",
      "13              UPI            1973  \n",
      "14              UPI            1020  \n",
      "17              UPI            1199  \n",
      "...             ...             ...  \n",
      "1053            UPI            1630  \n",
      "1054            UPI            1346  \n",
      "1077            UPI            1866  \n",
      "1082            UPI            1330  \n",
      "1097            UPI            1487  \n",
      "\n",
      "[144 rows x 8 columns]\n"
     ]
    }
   ],
   "source": [
    "upi_above_800 = df[(df['payment_method'].str.lower() == 'upi') & (df['payment_amount'] > 800)]\n",
    "print(upi_above_800)\n"
   ]
  },
  {
   "cell_type": "code",
   "execution_count": 113,
   "id": "2ea612dc-b9a6-40a4-9bb7-cb9d29e65204",
   "metadata": {},
   "outputs": [
    {
     "data": {
      "text/html": [
       "<div>\n",
       "<style scoped>\n",
       "    .dataframe tbody tr th:only-of-type {\n",
       "        vertical-align: middle;\n",
       "    }\n",
       "\n",
       "    .dataframe tbody tr th {\n",
       "        vertical-align: top;\n",
       "    }\n",
       "\n",
       "    .dataframe thead th {\n",
       "        text-align: right;\n",
       "    }\n",
       "</style>\n",
       "<table border=\"1\" class=\"dataframe\">\n",
       "  <thead>\n",
       "    <tr style=\"text-align: right;\">\n",
       "      <th></th>\n",
       "      <th>trip_id</th>\n",
       "      <th>trip_time</th>\n",
       "      <th>timeframe</th>\n",
       "      <th>Unnamed: 3</th>\n",
       "      <th>origin</th>\n",
       "      <th>destination</th>\n",
       "      <th>payment_method</th>\n",
       "      <th>payment_amount</th>\n",
       "    </tr>\n",
       "  </thead>\n",
       "  <tbody>\n",
       "    <tr>\n",
       "      <th>0</th>\n",
       "      <td>1</td>\n",
       "      <td>00:40</td>\n",
       "      <td>0-1</td>\n",
       "      <td>0-1</td>\n",
       "      <td>Kolhapur</td>\n",
       "      <td>Amravati</td>\n",
       "      <td>UPI</td>\n",
       "      <td>571</td>\n",
       "    </tr>\n",
       "    <tr>\n",
       "      <th>1</th>\n",
       "      <td>2</td>\n",
       "      <td>00:36</td>\n",
       "      <td>0-1</td>\n",
       "      <td>0-1</td>\n",
       "      <td>Nagpur</td>\n",
       "      <td>Aurangabad</td>\n",
       "      <td>UPI</td>\n",
       "      <td>434</td>\n",
       "    </tr>\n",
       "    <tr>\n",
       "      <th>2</th>\n",
       "      <td>3</td>\n",
       "      <td>00:19</td>\n",
       "      <td>0-1</td>\n",
       "      <td>0-1</td>\n",
       "      <td>Aurangabad</td>\n",
       "      <td>Amravati</td>\n",
       "      <td>Credit Card</td>\n",
       "      <td>298</td>\n",
       "    </tr>\n",
       "    <tr>\n",
       "      <th>3</th>\n",
       "      <td>4</td>\n",
       "      <td>00:04</td>\n",
       "      <td>0-1</td>\n",
       "      <td>0-1</td>\n",
       "      <td>Navi Mumbai</td>\n",
       "      <td>Amravati</td>\n",
       "      <td>Cash</td>\n",
       "      <td>1731</td>\n",
       "    </tr>\n",
       "    <tr>\n",
       "      <th>4</th>\n",
       "      <td>5</td>\n",
       "      <td>00:13</td>\n",
       "      <td>0-1</td>\n",
       "      <td>0-1</td>\n",
       "      <td>Mumbai</td>\n",
       "      <td>Nagpur</td>\n",
       "      <td>UPI</td>\n",
       "      <td>613</td>\n",
       "    </tr>\n",
       "  </tbody>\n",
       "</table>\n",
       "</div>"
      ],
      "text/plain": [
       "   trip_id trip_time timeframe Unnamed: 3       origin destination  \\\n",
       "0        1     00:40       0-1        0-1     Kolhapur    Amravati   \n",
       "1        2     00:36       0-1        0-1       Nagpur  Aurangabad   \n",
       "2        3     00:19       0-1        0-1   Aurangabad    Amravati   \n",
       "3        4     00:04       0-1        0-1  Navi Mumbai    Amravati   \n",
       "4        5     00:13       0-1        0-1       Mumbai      Nagpur   \n",
       "\n",
       "  payment_method  payment_amount  \n",
       "0            UPI             571  \n",
       "1            UPI             434  \n",
       "2    Credit Card             298  \n",
       "3           Cash            1731  \n",
       "4            UPI             613  "
      ]
     },
     "execution_count": 113,
     "metadata": {},
     "output_type": "execute_result"
    }
   ],
   "source": [
    "df.head()"
   ]
  },
  {
   "cell_type": "code",
   "execution_count": 114,
   "id": "f295b013-e997-49f1-9a9a-93559604e806",
   "metadata": {},
   "outputs": [
    {
     "name": "stdout",
     "output_type": "stream",
     "text": [
      "0    00:40\n",
      "1    00:36\n",
      "2    00:19\n",
      "3    00:04\n",
      "4    00:13\n",
      "Name: trip_time, dtype: object\n",
      "object\n"
     ]
    }
   ],
   "source": [
    "print(df['trip_time'].head())  # Display first few values\n",
    "print(df['trip_time'].dtype)   # Check data type\n"
   ]
  },
  {
   "cell_type": "code",
   "execution_count": 115,
   "id": "1b89ff7d-9865-41dd-9d4b-3c99b3e19a6f",
   "metadata": {},
   "outputs": [],
   "source": [
    "import re\n",
    "\n",
    "def convert_to_minutes(duration):\n",
    "    match = re.match(r'(?:(\\d+)h)?\\s*(?:(\\d+)m)?', str(duration))  # Handle NaN values safely\n",
    "    if match:\n",
    "        hours = int(match.group(1)) if match.group(1) else 0\n",
    "        minutes = int(match.group(2)) if match.group(2) else 0\n",
    "        return hours * 60 + minutes\n",
    "    return 0  # Default to 0 if no match\n",
    "\n",
    "df['trip_time_min'] = df['trip_time'].apply(convert_to_minutes)\n"
   ]
  },
  {
   "cell_type": "code",
   "execution_count": 116,
   "id": "8cfccb29-4628-4c62-838c-8ea31144c790",
   "metadata": {},
   "outputs": [
    {
     "name": "stdout",
     "output_type": "stream",
     "text": [
      "0    0\n",
      "1    0\n",
      "2    0\n",
      "3    0\n",
      "4    0\n",
      "Name: trip_time_min, dtype: int64\n"
     ]
    }
   ],
   "source": [
    "print(df['trip_time_min'].head())"
   ]
  },
  {
   "cell_type": "code",
   "execution_count": 117,
   "id": "69e2e1e2-2c1b-4905-be38-00cfb05caee9",
   "metadata": {},
   "outputs": [
    {
     "name": "stdout",
     "output_type": "stream",
     "text": [
      "Empty DataFrame\n",
      "Columns: [trip_id, trip_time, timeframe, Unnamed: 3, origin, destination, payment_method, payment_amount, trip_time_min]\n",
      "Index: []\n"
     ]
    }
   ],
   "source": [
    "trips_above_1hr = df[df['trip_time_min'] > 60]\n",
    "print(trips_above_1hr)\n"
   ]
  },
  {
   "cell_type": "code",
   "execution_count": 118,
   "id": "c7063e6c-906d-4f78-be83-de2f2a38e9d0",
   "metadata": {},
   "outputs": [],
   "source": [
    "df.rename(columns={'origin_column': 'origin', 'destination_column': 'destination'}, inplace=True)\n"
   ]
  },
  {
   "cell_type": "code",
   "execution_count": 119,
   "id": "f356f694-6318-4a07-8995-897e70392e50",
   "metadata": {},
   "outputs": [
    {
     "name": "stdout",
     "output_type": "stream",
     "text": [
      "      trip_id trip_time timeframe Unnamed: 3  origin destination  \\\n",
      "100       101     02:41       2-3        NaN  Mumbai       Thane   \n",
      "102       103     02:49       2-3        NaN  Mumbai       Thane   \n",
      "137       138     03:49       3-4        NaN  Mumbai       Thane   \n",
      "295       296     07:39       7-8        NaN  Mumbai       Thane   \n",
      "410       411     09:06      9-10        NaN  Mumbai       Thane   \n",
      "442       443     10:47     10-11        NaN  Mumbai       Thane   \n",
      "771       772     17:30     17-18      17-18  Mumbai       Thane   \n",
      "794       795     17:02     17-18      17-18  Mumbai       Thane   \n",
      "856       857     18:00     18-19      18-19  Mumbai       Thane   \n",
      "896       897     19:22     19-20      19-20  Mumbai       Thane   \n",
      "917       918     19:27     19-20      19-20  Mumbai       Thane   \n",
      "1016     1017     21:28     21-22      21-22  Mumbai       Thane   \n",
      "\n",
      "     payment_method  payment_amount  trip_time_min  \n",
      "100             UPI             634              0  \n",
      "102            Cash            1300              0  \n",
      "137      Google Pay             746              0  \n",
      "295            Cash             621              0  \n",
      "410      Google Pay             643              0  \n",
      "442     Credit Card            1881              0  \n",
      "771            Cash             702              0  \n",
      "794     Credit Card            1206              0  \n",
      "856      Google Pay            1745              0  \n",
      "896             UPI             324              0  \n",
      "917      Google Pay            1484              0  \n",
      "1016           Cash            1341              0  \n"
     ]
    }
   ],
   "source": [
    "mumbai_to_thane = df[(df['origin'].str.lower() == 'mumbai') & (df['destination'].str.lower() == 'thane')]\n",
    "print(mumbai_to_thane)\n"
   ]
  },
  {
   "cell_type": "code",
   "execution_count": 120,
   "id": "f04f57e0-5148-4a9f-b677-f24149cc23b6",
   "metadata": {},
   "outputs": [
    {
     "name": "stdout",
     "output_type": "stream",
     "text": [
      "Total travllers from Mumbai to Thane are: 12\n"
     ]
    }
   ],
   "source": [
    "trip_count1 = len(mumbai_to_thane)\n",
    "print(\"Total travllers from Mumbai to Thane are:\", trip_count1)"
   ]
  },
  {
   "cell_type": "code",
   "execution_count": 121,
   "id": "91b03657-8398-4ed1-87d5-a569b2bf49ec",
   "metadata": {},
   "outputs": [],
   "source": [
    "route_counts = df.groupby(['origin', 'destination']).size().reset_index(name='trip_count_highest')\n",
    "      "
   ]
  },
  {
   "cell_type": "code",
   "execution_count": 122,
   "id": "c70d8aa4-46d2-49da-9128-c84418a1a70e",
   "metadata": {},
   "outputs": [
    {
     "name": "stdout",
     "output_type": "stream",
     "text": [
      "Most traveled route:\n",
      " origin                 Thane\n",
      "destination           Nashik\n",
      "trip_count_highest        21\n",
      "Name: 95, dtype: object\n"
     ]
    }
   ],
   "source": [
    "most_traveled_route = route_counts.loc[route_counts['trip_count_highest'].idxmax()]\n",
    "print(\"Most traveled route:\\n\", most_traveled_route)\n"
   ]
  },
  {
   "cell_type": "code",
   "execution_count": 123,
   "id": "87a68586-568e-411e-950b-511284b87b64",
   "metadata": {},
   "outputs": [
    {
     "name": "stdout",
     "output_type": "stream",
     "text": [
      "Top 5 most common origin cities:\n",
      " origin\n",
      "Mumbai         128\n",
      "Thane          128\n",
      "Solapur        128\n",
      "Navi Mumbai    114\n",
      "Kolhapur       105\n",
      "Name: count, dtype: int64\n"
     ]
    }
   ],
   "source": [
    "top_origins = df['origin'].value_counts().head(5)\n",
    "print(\"Top 5 most common origin cities:\\n\", top_origins)\n"
   ]
  },
  {
   "cell_type": "code",
   "execution_count": 124,
   "id": "2225e029-a376-422a-b803-726a2dee5bfa",
   "metadata": {},
   "outputs": [
    {
     "name": "stdout",
     "output_type": "stream",
     "text": [
      "Top 5 most common origin cities:\n",
      " destination\n",
      "Nashik      126\n",
      "Nagpur      122\n",
      "Amravati    117\n",
      "Mumbai      115\n",
      "Thane       111\n",
      "Name: count, dtype: int64\n"
     ]
    }
   ],
   "source": [
    "top_destinations = df['destination'].value_counts().head(5)\n",
    "print(\"Top 5 most common origin cities:\\n\", top_destinations)\n"
   ]
  },
  {
   "cell_type": "code",
   "execution_count": 125,
   "id": "c91eac83-6003-4eb2-94ac-f1e7cd96c8e8",
   "metadata": {},
   "outputs": [],
   "source": [
    "upi_payments = df[df['payment_method'].str.lower() == 'upi']\n"
   ]
  },
  {
   "cell_type": "code",
   "execution_count": 126,
   "id": "1ba142ba-bcfb-4620-97a5-d94f82174da6",
   "metadata": {},
   "outputs": [
    {
     "name": "stdout",
     "output_type": "stream",
     "text": [
      "City with highest UPI transactions: Pune (28 times)\n"
     ]
    }
   ],
   "source": [
    "upi_by_origin = upi_payments['origin'].value_counts()\n",
    "most_upi_origin = upi_by_origin.idxmax()\n",
    "upi_count = upi_by_origin.max()\n",
    "\n",
    "print(f\"City with highest UPI transactions: {most_upi_origin} ({upi_count} times)\")\n"
   ]
  },
  {
   "cell_type": "code",
   "execution_count": 127,
   "id": "a127cc46-17b1-4976-983a-bffdde8b8dbc",
   "metadata": {},
   "outputs": [],
   "source": [
    "cash_payments = df[df['payment_method'].str.lower() == 'Cash']"
   ]
  },
  {
   "cell_type": "code",
   "execution_count": 128,
   "id": "f24164cd-7695-4fc9-865e-bd11dad26cca",
   "metadata": {},
   "outputs": [],
   "source": [
    "#Total number of trips"
   ]
  },
  {
   "cell_type": "code",
   "execution_count": 129,
   "id": "50ec4aad-69b3-4c3f-b561-15dc60a300ef",
   "metadata": {},
   "outputs": [
    {
     "name": "stdout",
     "output_type": "stream",
     "text": [
      "Total trips: 1106\n"
     ]
    }
   ],
   "source": [
    "total_trips = df.shape[0]\n",
    "print(\"Total trips:\", total_trips)\n"
   ]
  },
  {
   "cell_type": "code",
   "execution_count": 130,
   "id": "0dd513d5-00b3-4c6d-acf2-759eb8c6cd31",
   "metadata": {},
   "outputs": [
    {
     "name": "stdout",
     "output_type": "stream",
     "text": [
      "Longest trip details:\n",
      " trip_id                  1075\n",
      "trip_time               23:59\n",
      "timeframe               23-24\n",
      "Unnamed: 3              23-24\n",
      "origin                  Thane\n",
      "destination       Navi Mumbai\n",
      "payment_method            UPI\n",
      "payment_amount            332\n",
      "trip_time_min               0\n",
      "Name: 1074, dtype: object\n"
     ]
    }
   ],
   "source": [
    "longest_trip = df.loc[df['trip_time'].idxmax()]\n",
    "print(\"Longest trip details:\\n\", longest_trip)\n"
   ]
  },
  {
   "cell_type": "code",
   "execution_count": 131,
   "id": "07c13a64-f6d6-4da6-ae84-45e3293b7312",
   "metadata": {},
   "outputs": [
    {
     "name": "stdout",
     "output_type": "stream",
     "text": [
      "Most common origin city: Mumbai\n"
     ]
    }
   ],
   "source": [
    "most_common_origin = df['origin'].value_counts().idxmax()\n",
    "print(\"Most common origin city:\", most_common_origin)\n"
   ]
  },
  {
   "cell_type": "code",
   "execution_count": 132,
   "id": "4137fd30-e993-4bbd-b8fc-93801c1b3806",
   "metadata": {},
   "outputs": [
    {
     "name": "stdout",
     "output_type": "stream",
     "text": [
      "Most common destination city: Nashik\n"
     ]
    }
   ],
   "source": [
    "most_common_destination = df['destination'].value_counts().idxmax()\n",
    "print(\"Most common destination city:\", most_common_destination)\n"
   ]
  },
  {
   "cell_type": "code",
   "execution_count": 169,
   "id": "19a4c71b-b371-470d-ba99-6579add0666f",
   "metadata": {},
   "outputs": [
    {
     "name": "stdout",
     "output_type": "stream",
     "text": [
      "Most traveled route: ('Thane', 'Nashik')\n"
     ]
    }
   ],
   "source": [
    "most_traveled_route = df.groupby(['origin' , 'destination']).size().idxmax()\n",
    "print(\"Most traveled route:\", most_traveled_route)\n"
   ]
  },
  {
   "cell_type": "code",
   "execution_count": 165,
   "id": "c6ce82cd-05bb-44a8-a950-f0d780026d20",
   "metadata": {},
   "outputs": [
    {
     "name": "stdout",
     "output_type": "stream",
     "text": [
      "Trips from Mumbai to Thane: 12\n"
     ]
    }
   ],
   "source": [
    "mumbai_to_thane = df[(df['origin'] == 'Mumbai') & (df['destination'] == 'Thane')].shape[0]\n",
    "print(\"Trips from Mumbai to Thane:\", mumbai_to_thane)\n"
   ]
  },
  {
   "cell_type": "code",
   "execution_count": 171,
   "id": "0a6375bf-7ef0-4b1e-b85e-5c346b3db19e",
   "metadata": {},
   "outputs": [
    {
     "name": "stdout",
     "output_type": "stream",
     "text": [
      "Least traveled route: ('Amravati', 'Mumbai')\n"
     ]
    }
   ],
   "source": [
    "least_traveled_route = df.groupby(['origin', 'destination']).size().idxmin()\n",
    "print(\"Least traveled route:\", least_traveled_route)\n"
   ]
  },
  {
   "cell_type": "code",
   "execution_count": 173,
   "id": "693f5cf3-4d49-4c52-92bc-275061c96c9e",
   "metadata": {},
   "outputs": [
    {
     "name": "stdout",
     "output_type": "stream",
     "text": [
      "Most common payment method: Cash\n"
     ]
    }
   ],
   "source": [
    "most_common_payment = df['payment_method'].value_counts().idxmax()\n",
    "print(\"Most common payment method:\", most_common_payment)\n",
    "\n"
   ]
  },
  {
   "cell_type": "code",
   "execution_count": 177,
   "id": "ccad7679-96ba-4b28-ad03-4c1adc7b80b1",
   "metadata": {},
   "outputs": [
    {
     "name": "stdout",
     "output_type": "stream",
     "text": [
      "Number of UPI payments: 219\n"
     ]
    }
   ],
   "source": [
    "upi_count = df[df['payment_method'] == 'UPI'].shape[0]\n",
    "print(\"Number of UPI payments:\", upi_count)\n"
   ]
  },
  {
   "cell_type": "code",
   "execution_count": 179,
   "id": "05ae43af-b243-4026-b2bd-0abc1482dd33",
   "metadata": {},
   "outputs": [
    {
     "name": "stdout",
     "output_type": "stream",
     "text": [
      "City with highest UPI transactions: Pune\n"
     ]
    }
   ],
   "source": [
    "upi_by_origin = df[df['payment_method'] == 'UPI']['origin'].value_counts().idxmax()\n",
    "print(\"City with highest UPI transactions:\", upi_by_origin)\n"
   ]
  },
  {
   "cell_type": "code",
   "execution_count": 189,
   "id": "138c78e9-ac22-4368-870c-cd86b290b489",
   "metadata": {},
   "outputs": [
    {
     "name": "stdout",
     "output_type": "stream",
     "text": [
      "Avg UPI Fare: 1046.8219178082193 | Avg Cash Fare: 1050.4490238611713\n"
     ]
    }
   ],
   "source": [
    "avg_fare_upi = df[df['payment_method'] == 'UPI']['payment_amount'].mean()\n",
    "avg_fare_cash = df[df['payment_method'] == 'Cash']['payment_amount'].mean()\n",
    "print(\"Avg UPI Fare:\", avg_fare_upi, \"| Avg Cash Fare:\", avg_fare_cash)\n"
   ]
  },
  {
   "cell_type": "code",
   "execution_count": 193,
   "id": "2ce52e78-d6da-4808-a94a-36e3a3eea8b5",
   "metadata": {},
   "outputs": [
    {
     "name": "stdout",
     "output_type": "stream",
     "text": [
      "Total revenue: 1138189\n"
     ]
    }
   ],
   "source": [
    "total_revenue = df['payment_amount'].sum()\n",
    "print(\"Total revenue:\", total_revenue)\n"
   ]
  },
  {
   "cell_type": "code",
   "execution_count": 197,
   "id": "b0ccc71d-8889-4716-9fb5-9eeb4f9857e0",
   "metadata": {},
   "outputs": [
    {
     "name": "stdout",
     "output_type": "stream",
     "text": [
      "City with highest revenue: Thane\n"
     ]
    }
   ],
   "source": [
    "highest_revenue_city = df.groupby('origin')['payment_amount'].sum().idxmax()\n",
    "print(\"City with highest revenue:\", highest_revenue_city)\n"
   ]
  },
  {
   "cell_type": "code",
   "execution_count": 233,
   "id": "4f5d403e-d746-4c89-a6a4-5af0f09e0983",
   "metadata": {},
   "outputs": [
    {
     "data": {
      "image/png": "[encoded data removed]",
      "text/plain": [
       "<Figure size 1000x500 with 1 Axes>"
      ]
     },
     "metadata": {},
     "output_type": "display_data"
    }
   ],
   "source": [
    "import matplotlib.pyplot as plt\n",
    "fig, ax = plt.subplots(figsize=(8,5))\n",
    "ax.set_facecolor('black')\n",
    "df['origin'].value_counts().plot(kind='bar', figsize=(10,5), color='lightgreen')\n",
    "plt.title(\"Number of Trips from Each City\")\n",
    "plt.xlabel(\"Origin City\")\n",
    "plt.ylabel(\"Trip Count\")\n",
    "plt.xticks(rotation=45)\n",
    "plt.show()\n"
   ]
  },
  {
   "cell_type": "code",
   "execution_count": 237,
   "id": "75e454cc-04a6-447a-9da2-2494fb3247d5",
   "metadata": {},
   "outputs": [
    {
     "data": {
      "image/png": "[encoded data removed]",
      "text/plain": [
       "<Figure size 1000x500 with 1 Axes>"
      ]
     },
     "metadata": {},
     "output_type": "display_data"
    }
   ],
   "source": [
    "df['route'] = df['origin'] + \" → \" + df['destination']\n",
    "\n",
    "fig, ax = plt.subplots(figsize=(8,5))\n",
    "ax.set_facecolor('black')\n",
    "df['route'].value_counts().nlargest(10).plot(kind='barh', figsize=(10,5), color='orange')\n",
    "plt.title(\"Top 10 Most Frequent Uber Routes\")\n",
    "plt.xlabel(\"Trip Count\")\n",
    "plt.ylabel(\"Route\")\n",
    "plt.show()\n"
   ]
  },
  {
   "cell_type": "code",
   "execution_count": 254,
   "id": "cfadd67c-87c9-4395-8910-0e5ff67b32ee",
   "metadata": {},
   "outputs": [
    {
     "data": {
      "image/png": "[encoded data removed]",
      "text/plain": [
       "<Figure size 700x700 with 1 Axes>"
      ]
     },
     "metadata": {},
     "output_type": "display_data"
    }
   ],
   "source": [
    "\n",
    "df['payment_method'].value_counts().plot(kind='pie', autopct='%1.1f%%', figsize=(7,7), colors=['lightblue', 'lightgreen', 'orange','pink'])\n",
    "plt.title(\"Distribution of Payment Methods\")\n",
    "plt.ylabel(\"\")  # Hide y-axis label\n",
    "plt.show()\n"
   ]
  },
  {
   "cell_type": "code",
   "execution_count": 258,
   "id": "e8900fab-1427-4615-94e3-8e8ee3490cfc",
   "metadata": {},
   "outputs": [
    {
     "data": {
      "image/png": "[encoded data removed]",
      "text/plain": [
       "<Figure size 1000x500 with 1 Axes>"
      ]
     },
     "metadata": {},
     "output_type": "display_data"
    }
   ],
   "source": [
    "df.groupby('origin')['payment_amount'].sum().sort_values().plot(kind='barh', figsize=(10,5), color='purple')\n",
    "plt.title(\"Total Revenue by Origin City\")\n",
    "plt.xlabel(\"Total Revenue\")\n",
    "plt.ylabel(\"City\")\n",
    "plt.show()\n"
   ]
  },
  {
   "cell_type": "code",
   "execution_count": 268,
   "id": "b24bd3dc-2f00-4391-bb17-0eae91d47542",
   "metadata": {},
   "outputs": [
    {
     "data": {
      "image/png": "[encoded data removed]",
      "text/plain": [
       "<Figure size 800x600 with 1 Axes>"
      ]
     },
     "metadata": {},
     "output_type": "display_data"
    }
   ],
   "source": [
    "import seaborn as sns\n",
    "\n",
    "plt.figure(figsize=(8,6))\n",
    "sns.boxplot(x='payment_method', y='payment_amount', data=df,hue='payment_method', palette=\"coolwarm\", legend=False)\n",
    "plt.title(\"Fare Distribution by Payment Method\")\n",
    "plt.xlabel(\"Payment Method\")\n",
    "plt.ylabel(\"Fare Amount\")\n",
    "plt.show()\n"
   ]
  },
  {
   "cell_type": "code",
   "execution_count": null,
   "id": "469ca3df-8767-4f19-b959-4841d36a7818",
   "metadata": {},
   "outputs": [],
   "source": []
  },
  {
   "cell_type": "code",
   "execution_count": null,
   "id": "f7902992-3152-4a08-92dc-57c0fb72c39a",
   "metadata": {},
   "outputs": [],
   "source": []
  }
 ],
 "metadata": {
  "kernelspec": {
   "display_name": "Python 3 (ipykernel)",
   "language": "python",
   "name": "python3"
  },
  "language_info": {
   "codemirror_mode": {
    "name": "ipython",
    "version": 3
   },
   "file_extension": ".py",
   "mimetype": "text/x-python",
   "name": "python",
   "nbconvert_exporter": "python",
   "pygments_lexer": "ipython3",
   "version": "3.12.4"
  }
 },
 "nbformat": 4,
 "nbformat_minor": 5
}
